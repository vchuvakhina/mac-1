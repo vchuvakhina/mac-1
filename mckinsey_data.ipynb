{
 "cells": [
  {
   "cell_type": "markdown",
   "metadata": {},
   "source": [
    "Objective\n",
    "\n",
    "The objective of this contest is to predict the probability of an offer being accepted by a certain driver.\n",
    "Data\n",
    "\n",
    "Data consists of the following features:\n",
    "\n",
    "* offer_gk – unique offer identifier (INT)\n",
    "* weekday_key – day of week number (Sunday = 0, Monday = 1, etc.) (INT)\n",
    "* hour_key – hour of day representing an hour part of datetime (value from 0 to 23) (INT)\n",
    "* driver_gk – unique driver identifier (INT)\n",
    "* order_gk – unique order identifier (INT). Order may have multiple offers\n",
    "* driver_latitude – latitude of driver at the time of getting an offer (FLOAT) \n",
    "* driver_longitude – longitude of driver at the time of receiving an offer (FLOAT)\n",
    "* origin_order_latitude – latitude of the order start location at the time of receiving an offer (FLOAT)\n",
    "* origin_order_longitude – longitude of the order start location at the moment of receiving an offer (FLOAT)\n",
    "* distance_km – estimated distance from origin to destination in kilometres (FLOAT). Value -1 means that the destination is not set\n",
    "* duration_min – estimated duration from origin to destination in minutes (FLOAT). Value -1 means that the destination is not set\n",
    "* offer_class_group – class of the order, e.g. Economy, Business, XL (VARCHAR)\n",
    "* ride_type_desc – private or business order attribute (VARCHAR)\n",
    "* driver_response – driver choice of whether to accept the offer or not (VARCHAR) \n",
    "* The variable to be predicted is “driver_response”. "
   ]
  },
  {
   "cell_type": "markdown",
   "metadata": {},
   "source": [
    "Files:\n",
    "* CAX_TestData_McK.csv\n",
    "* CAX_TrainingData_McK.csv\n",
    "* McK_SubmissionFormat.csv"
   ]
  },
  {
   "cell_type": "code",
   "execution_count": 1,
   "metadata": {},
   "outputs": [
    {
     "name": "stdout",
     "output_type": "stream",
     "text": [
      "offer_gk,weekday_key,hour_key,driver_gk,order_gk,driver_latitude,driver_longitude,origin_order_latitude,origin_order_longitude,distance_km,duration_min,offer_class_group,ride_type_desc,driver_response\r",
      "\r\n",
      "1105373,5,20,6080,174182,55.818842,37.334562,55.814567,37.35501,-1,-1,Economy,private,0\r",
      "\r\n"
     ]
    }
   ],
   "source": [
    "!head -n2 CAX_TrainingData_McK.csv"
   ]
  },
  {
   "cell_type": "code",
   "execution_count": 2,
   "metadata": {},
   "outputs": [
    {
     "name": "stdout",
     "output_type": "stream",
     "text": [
      "offer_gk,driver_response\r",
      "\r\n",
      "152446,\r",
      "\r\n"
     ]
    }
   ],
   "source": [
    "!head -n2 McK_SubmissionFormat.csv"
   ]
  },
  {
   "cell_type": "code",
   "execution_count": 7,
   "metadata": {
    "collapsed": true
   },
   "outputs": [],
   "source": [
    "#imports\n",
    "import pandas as pd\n",
    "import numpy as np\n",
    "import matplotlib\n",
    "import seaborn as sns\n",
    "import matplotlib.pyplot as plt\n",
    "from sklearn.cluster import KMeans\n",
    "import pickle\n",
    "from geopy.distance import vincenty\n",
    "from sklearn.preprocessing import StandardScaler"
   ]
  },
  {
   "cell_type": "code",
   "execution_count": 4,
   "metadata": {
    "collapsed": true
   },
   "outputs": [],
   "source": [
    "types = {'offer_gk': 'uint32',\n",
    "         'weekday_key' :'uint8',\n",
    "         'hour_key' : 'uint8',\n",
    "         'driver_gk' : 'uint32',\n",
    "         'order_gk' : 'uint32',\n",
    "         'driver_latitude' :'float32',\n",
    "         'driver_longitude' :'float32',\n",
    "         'origin_order_latitude' : 'float32',\n",
    "         'origin_order_longitude' :'float32',\n",
    "         'distance_km' : 'float32',\n",
    "         'duration_min' :'float32',\n",
    "         'offer_class_group' :'object',\n",
    "         'ride_type_desc' :'object',\n",
    "         'driver_response' :'object'}"
   ]
  },
  {
   "cell_type": "code",
   "execution_count": 5,
   "metadata": {
    "collapsed": true
   },
   "outputs": [],
   "source": [
    "train = pd.read_csv(\"CAX_TrainingData_McK.csv\", dtype=types)"
   ]
  },
  {
   "cell_type": "code",
   "execution_count": 6,
   "metadata": {
    "collapsed": true
   },
   "outputs": [],
   "source": [
    "test = pd.read_csv(\"CAX_TestData_McK.csv\", dtype=types)"
   ]
  },
  {
   "cell_type": "code",
   "execution_count": 7,
   "metadata": {
    "collapsed": true
   },
   "outputs": [],
   "source": [
    "train['is_test'] = False\n",
    "test['is_test'] = True"
   ]
  },
  {
   "cell_type": "code",
   "execution_count": 8,
   "metadata": {
    "collapsed": true
   },
   "outputs": [],
   "source": [
    "all_data = pd.concat([train, test])"
   ]
  },
  {
   "cell_type": "markdown",
   "metadata": {},
   "source": [
    "В трейне и тесте есть набор расстояний/времени с 0 значениями - приведем их к -1 (точка назначения не указана)"
   ]
  },
  {
   "cell_type": "code",
   "execution_count": 9,
   "metadata": {
    "collapsed": true
   },
   "outputs": [],
   "source": [
    "all_data.loc[all_data.duration_min == 0, 'duration_min'] = -1\n",
    "all_data.loc[all_data.distance_km == 0, 'distance_km'] = -1"
   ]
  },
  {
   "cell_type": "code",
   "execution_count": 10,
   "metadata": {
    "collapsed": true
   },
   "outputs": [],
   "source": [
    "all_data=all_data.reset_index(drop=True)"
   ]
  },
  {
   "cell_type": "markdown",
   "metadata": {},
   "source": [
    "Калсетризуруем координаты"
   ]
  },
  {
   "cell_type": "code",
   "execution_count": 11,
   "metadata": {
    "collapsed": true
   },
   "outputs": [],
   "source": [
    "all_coords = np.vstack([all_data[['driver_latitude','driver_longitude']], all_data[['origin_order_latitude', 'origin_order_longitude']]])\n",
    "all_coords = all_coords.astype(np.float32)\n",
    "all_coords=list(zip(all_coords[:,0], all_coords[:,1]))"
   ]
  },
  {
   "cell_type": "code",
   "execution_count": 11,
   "metadata": {
    "collapsed": true
   },
   "outputs": [],
   "source": [
    "# cl = KMeans(n_clusters=42)\n",
    "# clusters = cl.fit_predict(all_coords)\n",
    "# pickle.dump(clusters, open('clusters.pkl', 'wb'))"
   ]
  },
  {
   "cell_type": "code",
   "execution_count": 12,
   "metadata": {
    "collapsed": true
   },
   "outputs": [],
   "source": [
    "clusters = pickle.load(open('clusters.pkl', 'rb'))"
   ]
  },
  {
   "cell_type": "code",
   "execution_count": 16,
   "metadata": {
    "collapsed": true
   },
   "outputs": [],
   "source": [
    "half_len=int(clusters.shape[0]/2)"
   ]
  },
  {
   "cell_type": "code",
   "execution_count": 26,
   "metadata": {
    "collapsed": true
   },
   "outputs": [],
   "source": [
    "driver_clusters = clusters[:half_len]\n",
    "order_clusters = clusters[half_len:]"
   ]
  },
  {
   "cell_type": "code",
   "execution_count": 25,
   "metadata": {
    "collapsed": true
   },
   "outputs": [],
   "source": [
    "all_data['driver_cluster'] = driver_clusters"
   ]
  },
  {
   "cell_type": "code",
   "execution_count": 27,
   "metadata": {
    "collapsed": true
   },
   "outputs": [],
   "source": [
    "all_data['order_cluster'] = order_clusters"
   ]
  },
  {
   "cell_type": "code",
   "execution_count": 28,
   "metadata": {},
   "outputs": [
    {
     "data": {
      "text/html": [
       "<div>\n",
       "<table border=\"1\" class=\"dataframe\">\n",
       "  <thead>\n",
       "    <tr style=\"text-align: right;\">\n",
       "      <th></th>\n",
       "      <th>offer_gk</th>\n",
       "      <th>weekday_key</th>\n",
       "      <th>hour_key</th>\n",
       "      <th>driver_gk</th>\n",
       "      <th>order_gk</th>\n",
       "      <th>driver_latitude</th>\n",
       "      <th>driver_longitude</th>\n",
       "      <th>origin_order_latitude</th>\n",
       "      <th>origin_order_longitude</th>\n",
       "      <th>distance_km</th>\n",
       "      <th>duration_min</th>\n",
       "      <th>offer_class_group</th>\n",
       "      <th>ride_type_desc</th>\n",
       "      <th>driver_response</th>\n",
       "      <th>is_test</th>\n",
       "      <th>km_per_min</th>\n",
       "      <th>distance_log</th>\n",
       "      <th>driver_cluster</th>\n",
       "      <th>order_cluster</th>\n",
       "    </tr>\n",
       "  </thead>\n",
       "  <tbody>\n",
       "    <tr>\n",
       "      <th>0</th>\n",
       "      <td>1105373</td>\n",
       "      <td>5</td>\n",
       "      <td>20</td>\n",
       "      <td>6080</td>\n",
       "      <td>174182</td>\n",
       "      <td>55.818844</td>\n",
       "      <td>37.334560</td>\n",
       "      <td>55.814568</td>\n",
       "      <td>37.355011</td>\n",
       "      <td>-1.000</td>\n",
       "      <td>-1.000000</td>\n",
       "      <td>Economy</td>\n",
       "      <td>private</td>\n",
       "      <td>0</td>\n",
       "      <td>False</td>\n",
       "      <td>1.000000</td>\n",
       "      <td>0.000000</td>\n",
       "      <td>12</td>\n",
       "      <td>12</td>\n",
       "    </tr>\n",
       "    <tr>\n",
       "      <th>1</th>\n",
       "      <td>759733</td>\n",
       "      <td>5</td>\n",
       "      <td>14</td>\n",
       "      <td>6080</td>\n",
       "      <td>358774</td>\n",
       "      <td>55.805344</td>\n",
       "      <td>37.515022</td>\n",
       "      <td>55.819328</td>\n",
       "      <td>37.466396</td>\n",
       "      <td>18.802</td>\n",
       "      <td>25.216999</td>\n",
       "      <td>Standard</td>\n",
       "      <td>private</td>\n",
       "      <td>1</td>\n",
       "      <td>False</td>\n",
       "      <td>0.745608</td>\n",
       "      <td>2.933963</td>\n",
       "      <td>28</td>\n",
       "      <td>19</td>\n",
       "    </tr>\n",
       "    <tr>\n",
       "      <th>2</th>\n",
       "      <td>416977</td>\n",
       "      <td>6</td>\n",
       "      <td>14</td>\n",
       "      <td>6080</td>\n",
       "      <td>866260</td>\n",
       "      <td>55.813976</td>\n",
       "      <td>37.347687</td>\n",
       "      <td>55.814827</td>\n",
       "      <td>37.354073</td>\n",
       "      <td>6.747</td>\n",
       "      <td>9.800000</td>\n",
       "      <td>Economy</td>\n",
       "      <td>private</td>\n",
       "      <td>0</td>\n",
       "      <td>False</td>\n",
       "      <td>0.688469</td>\n",
       "      <td>1.909098</td>\n",
       "      <td>12</td>\n",
       "      <td>12</td>\n",
       "    </tr>\n",
       "    <tr>\n",
       "      <th>3</th>\n",
       "      <td>889660</td>\n",
       "      <td>2</td>\n",
       "      <td>6</td>\n",
       "      <td>6080</td>\n",
       "      <td>163522</td>\n",
       "      <td>55.745922</td>\n",
       "      <td>37.421749</td>\n",
       "      <td>55.743469</td>\n",
       "      <td>37.431129</td>\n",
       "      <td>-1.000</td>\n",
       "      <td>-1.000000</td>\n",
       "      <td>Economy</td>\n",
       "      <td>private</td>\n",
       "      <td>1</td>\n",
       "      <td>False</td>\n",
       "      <td>1.000000</td>\n",
       "      <td>0.000000</td>\n",
       "      <td>7</td>\n",
       "      <td>7</td>\n",
       "    </tr>\n",
       "    <tr>\n",
       "      <th>4</th>\n",
       "      <td>1120055</td>\n",
       "      <td>4</td>\n",
       "      <td>16</td>\n",
       "      <td>6080</td>\n",
       "      <td>506710</td>\n",
       "      <td>55.803577</td>\n",
       "      <td>37.521603</td>\n",
       "      <td>55.812557</td>\n",
       "      <td>37.527409</td>\n",
       "      <td>12.383</td>\n",
       "      <td>19.250000</td>\n",
       "      <td>Economy</td>\n",
       "      <td>private</td>\n",
       "      <td>1</td>\n",
       "      <td>False</td>\n",
       "      <td>0.643273</td>\n",
       "      <td>2.516325</td>\n",
       "      <td>28</td>\n",
       "      <td>28</td>\n",
       "    </tr>\n",
       "  </tbody>\n",
       "</table>\n",
       "</div>"
      ],
      "text/plain": [
       "   offer_gk  weekday_key  hour_key  driver_gk  order_gk  driver_latitude  \\\n",
       "0   1105373            5        20       6080    174182        55.818844   \n",
       "1    759733            5        14       6080    358774        55.805344   \n",
       "2    416977            6        14       6080    866260        55.813976   \n",
       "3    889660            2         6       6080    163522        55.745922   \n",
       "4   1120055            4        16       6080    506710        55.803577   \n",
       "\n",
       "   driver_longitude  origin_order_latitude  origin_order_longitude  \\\n",
       "0         37.334560              55.814568               37.355011   \n",
       "1         37.515022              55.819328               37.466396   \n",
       "2         37.347687              55.814827               37.354073   \n",
       "3         37.421749              55.743469               37.431129   \n",
       "4         37.521603              55.812557               37.527409   \n",
       "\n",
       "   distance_km  duration_min offer_class_group ride_type_desc driver_response  \\\n",
       "0       -1.000     -1.000000           Economy        private               0   \n",
       "1       18.802     25.216999          Standard        private               1   \n",
       "2        6.747      9.800000           Economy        private               0   \n",
       "3       -1.000     -1.000000           Economy        private               1   \n",
       "4       12.383     19.250000           Economy        private               1   \n",
       "\n",
       "  is_test  km_per_min  distance_log  driver_cluster  order_cluster  \n",
       "0   False    1.000000      0.000000              12             12  \n",
       "1   False    0.745608      2.933963              28             19  \n",
       "2   False    0.688469      1.909098              12             12  \n",
       "3   False    1.000000      0.000000               7              7  \n",
       "4   False    0.643273      2.516325              28             28  "
      ]
     },
     "execution_count": 28,
     "metadata": {},
     "output_type": "execute_result"
    }
   ],
   "source": [
    "all_data.head()"
   ]
  },
  {
   "cell_type": "markdown",
   "metadata": {},
   "source": [
    "* offer_gk - не учитываем в модели\n",
    "* weekday_key - гармоническое кодирование OHE кодирование\n",
    "* hour_key - гармоничское кодирование OHE кодирование\n",
    "* hour + weekday - OHE кодирование, hash_trick\n",
    "* time_of_day - ohe\n",
    "* driver_gk - hash trick \n",
    "* order_gk не используем\n",
    "* driver_latitude - Scaling\n",
    "* driver_longitude - Scaling\n",
    "* Кластер водителя - Hash trick, OHE\n",
    "* origin_order_latitude - Scaling\n",
    "* origin_order_longitude - Scaling\n",
    "* Кластер заказа - - Hash trick, OHE\n",
    "* Расстояние по прямой - Scaling\n",
    "* distance_km - вещественная - логарифмируем\n",
    "* duration_min - веществаенная - логарифмируем\n",
    "* km_per_min - distance_km/duration_min\n",
    "* offer_class_group - OHE\n",
    "* ride_type_desc - OHE\n",
    "* driver_response - Это метка"
   ]
  },
  {
   "cell_type": "code",
   "execution_count": 8,
   "metadata": {
    "collapsed": true
   },
   "outputs": [],
   "source": [
    "columns_to_exclude=['order_gk',  \n",
    "                    'weekday_key', 'hour_key', 'driver_gk', 'ride_type_desc', 'driver_cluster', 'order_cluster',\n",
    "                    'time_of_day', 'distance_km', 'duration_min', 'offer_class_group']"
   ]
  },
  {
   "cell_type": "code",
   "execution_count": null,
   "metadata": {
    "collapsed": true
   },
   "outputs": [],
   "source": []
  },
  {
   "cell_type": "code",
   "execution_count": 5,
   "metadata": {
    "collapsed": true
   },
   "outputs": [],
   "source": [
    "def make_harmonic_features(value, period=24):\n",
    "    value *= 2 * np.pi / period\n",
    "    return np.cos(value), np.sin(value)"
   ]
  },
  {
   "cell_type": "code",
   "execution_count": 6,
   "metadata": {
    "collapsed": true
   },
   "outputs": [],
   "source": [
    "HASH_SPACE = 2**20\n",
    "def hash_trick(feature, value):\n",
    "    return hash(feature+'='+str(value)) % HASH_SPACE"
   ]
  },
  {
   "cell_type": "code",
   "execution_count": 7,
   "metadata": {
    "collapsed": true
   },
   "outputs": [],
   "source": [
    "def OHE(data, prefix):\n",
    "    return pd.get_dummies(data, prefix=prefix)"
   ]
  },
  {
   "cell_type": "code",
   "execution_count": 8,
   "metadata": {
    "collapsed": true
   },
   "outputs": [],
   "source": [
    "def distance(x):\n",
    "    return vincenty((x[0], x[1]), (x[2], x[3])).kilometers"
   ]
  },
  {
   "cell_type": "code",
   "execution_count": 9,
   "metadata": {
    "collapsed": true
   },
   "outputs": [],
   "source": [
    "def time_of_day(x):\n",
    "    if x > 2 and x <=7:\n",
    "        return 0\n",
    "    elif x > 7 and x <= 13:\n",
    "        return 1\n",
    "    elif x > 13 and x <= 17:\n",
    "        return 2\n",
    "    else:\n",
    "        return 3"
   ]
  },
  {
   "cell_type": "code",
   "execution_count": 53,
   "metadata": {
    "collapsed": true
   },
   "outputs": [],
   "source": [
    "all_data['cos_hr'] = all_data.hour_key.apply(lambda x: make_harmonic_features(x, period=24)[0])\n",
    "all_data['sin_hr'] = all_data.hour_key.apply(lambda x: make_harmonic_features(x, period=24)[1])"
   ]
  },
  {
   "cell_type": "code",
   "execution_count": 55,
   "metadata": {
    "collapsed": true
   },
   "outputs": [],
   "source": [
    "all_data['cos_day'] = all_data.weekday_key.apply(lambda x: make_harmonic_features(x, period=7)[0])\n",
    "all_data['sin_day'] = all_data.weekday_key.apply(lambda x: make_harmonic_features(x, period=7)[1])"
   ]
  },
  {
   "cell_type": "code",
   "execution_count": 62,
   "metadata": {
    "collapsed": true
   },
   "outputs": [],
   "source": [
    "hour_ohe = OHE(all_data.hour_key, 'hrs')\n",
    "day_ohe = OHE(all_data.weekday_key, 'wds')"
   ]
  },
  {
   "cell_type": "code",
   "execution_count": 65,
   "metadata": {
    "collapsed": true
   },
   "outputs": [],
   "source": [
    "all_data = pd.concat([all_data, hour_ohe], axis=1)\n",
    "all_data = pd.concat([all_data, day_ohe], axis=1)"
   ]
  },
  {
   "cell_type": "code",
   "execution_count": 9,
   "metadata": {
    "collapsed": true
   },
   "outputs": [],
   "source": [
    "all_data = pickle.load(open('all_data,pkl', 'rb'))"
   ]
  },
  {
   "cell_type": "code",
   "execution_count": 10,
   "metadata": {
    "collapsed": true
   },
   "outputs": [],
   "source": [
    "all_data['driver_hash'] = all_data.driver_gk.apply(lambda x: hash_trick('deiver_gk', x))"
   ]
  },
  {
   "cell_type": "code",
   "execution_count": 13,
   "metadata": {
    "collapsed": true
   },
   "outputs": [],
   "source": [
    "pickle.dump(all_data, open('all_data,pkl', 'wb'))"
   ]
  },
  {
   "cell_type": "code",
   "execution_count": 14,
   "metadata": {},
   "outputs": [
    {
     "name": "stderr",
     "output_type": "stream",
     "text": [
      "/home/nbuser/anaconda3_420/lib/python3.5/site-packages/sklearn/utils/validation.py:429: DataConversionWarning: Data with input dtype int64 was converted to float64 by StandardScaler.\n",
      "  warnings.warn(msg, _DataConversionWarning)\n",
      "/home/nbuser/anaconda3_420/lib/python3.5/site-packages/sklearn/preprocessing/data.py:586: DeprecationWarning: Passing 1d arrays as data is deprecated in 0.17 and will raise ValueError in 0.19. Reshape your data either using X.reshape(-1, 1) if your data has a single feature or X.reshape(1, -1) if it contains a single sample.\n",
      "  warnings.warn(DEPRECATION_MSG_1D, DeprecationWarning)\n",
      "/home/nbuser/anaconda3_420/lib/python3.5/site-packages/sklearn/preprocessing/data.py:649: DeprecationWarning: Passing 1d arrays as data is deprecated in 0.17 and will raise ValueError in 0.19. Reshape your data either using X.reshape(-1, 1) if your data has a single feature or X.reshape(1, -1) if it contains a single sample.\n",
      "  warnings.warn(DEPRECATION_MSG_1D, DeprecationWarning)\n"
     ]
    }
   ],
   "source": [
    "all_data['driver_hash'] = StandardScaler().fit_transform(all_data['driver_hash'])"
   ]
  },
  {
   "cell_type": "code",
   "execution_count": 22,
   "metadata": {
    "collapsed": true
   },
   "outputs": [],
   "source": [
    "all_data['day_hour'] = all_data[['weekday_key', 'hour_key']].apply(lambda x: x[0]*100+x[1], axis=1)"
   ]
  },
  {
   "cell_type": "code",
   "execution_count": 23,
   "metadata": {
    "collapsed": true
   },
   "outputs": [],
   "source": [
    "all_data['day_hour'] = all_data['day_hour'].apply(lambda x: hash_trick('day_hour', x))"
   ]
  },
  {
   "cell_type": "code",
   "execution_count": 24,
   "metadata": {},
   "outputs": [
    {
     "name": "stderr",
     "output_type": "stream",
     "text": [
      "/home/nbuser/anaconda3_420/lib/python3.5/site-packages/sklearn/utils/validation.py:429: DataConversionWarning: Data with input dtype int64 was converted to float64 by StandardScaler.\n",
      "  warnings.warn(msg, _DataConversionWarning)\n",
      "/home/nbuser/anaconda3_420/lib/python3.5/site-packages/sklearn/preprocessing/data.py:586: DeprecationWarning: Passing 1d arrays as data is deprecated in 0.17 and will raise ValueError in 0.19. Reshape your data either using X.reshape(-1, 1) if your data has a single feature or X.reshape(1, -1) if it contains a single sample.\n",
      "  warnings.warn(DEPRECATION_MSG_1D, DeprecationWarning)\n",
      "/home/nbuser/anaconda3_420/lib/python3.5/site-packages/sklearn/preprocessing/data.py:649: DeprecationWarning: Passing 1d arrays as data is deprecated in 0.17 and will raise ValueError in 0.19. Reshape your data either using X.reshape(-1, 1) if your data has a single feature or X.reshape(1, -1) if it contains a single sample.\n",
      "  warnings.warn(DEPRECATION_MSG_1D, DeprecationWarning)\n"
     ]
    }
   ],
   "source": [
    "all_data['day_hour'] = StandardScaler().fit_transform(all_data['day_hour'])"
   ]
  },
  {
   "cell_type": "code",
   "execution_count": 33,
   "metadata": {
    "collapsed": true
   },
   "outputs": [],
   "source": [
    "all_data['time_of_day'] = all_data['hour_key'].apply(time_of_day)"
   ]
  },
  {
   "cell_type": "code",
   "execution_count": 34,
   "metadata": {
    "collapsed": true
   },
   "outputs": [],
   "source": [
    "tod_ohe=OHE(all_data['time_of_day'], 'tod')"
   ]
  },
  {
   "cell_type": "code",
   "execution_count": 35,
   "metadata": {
    "collapsed": true
   },
   "outputs": [],
   "source": [
    "all_data = pd.concat([all_data, tod_ohe], axis=1)"
   ]
  },
  {
   "cell_type": "code",
   "execution_count": 38,
   "metadata": {},
   "outputs": [
    {
     "name": "stderr",
     "output_type": "stream",
     "text": [
      "/home/nbuser/anaconda3_420/lib/python3.5/site-packages/sklearn/preprocessing/data.py:586: DeprecationWarning: Passing 1d arrays as data is deprecated in 0.17 and will raise ValueError in 0.19. Reshape your data either using X.reshape(-1, 1) if your data has a single feature or X.reshape(1, -1) if it contains a single sample.\n",
      "  warnings.warn(DEPRECATION_MSG_1D, DeprecationWarning)\n",
      "/home/nbuser/anaconda3_420/lib/python3.5/site-packages/sklearn/preprocessing/data.py:649: DeprecationWarning: Passing 1d arrays as data is deprecated in 0.17 and will raise ValueError in 0.19. Reshape your data either using X.reshape(-1, 1) if your data has a single feature or X.reshape(1, -1) if it contains a single sample.\n",
      "  warnings.warn(DEPRECATION_MSG_1D, DeprecationWarning)\n"
     ]
    }
   ],
   "source": [
    "all_data['driver_latitude'] = StandardScaler().fit_transform(all_data['driver_latitude'])"
   ]
  },
  {
   "cell_type": "code",
   "execution_count": 41,
   "metadata": {},
   "outputs": [
    {
     "name": "stderr",
     "output_type": "stream",
     "text": [
      "/home/nbuser/anaconda3_420/lib/python3.5/site-packages/sklearn/preprocessing/data.py:586: DeprecationWarning: Passing 1d arrays as data is deprecated in 0.17 and will raise ValueError in 0.19. Reshape your data either using X.reshape(-1, 1) if your data has a single feature or X.reshape(1, -1) if it contains a single sample.\n",
      "  warnings.warn(DEPRECATION_MSG_1D, DeprecationWarning)\n",
      "/home/nbuser/anaconda3_420/lib/python3.5/site-packages/sklearn/preprocessing/data.py:649: DeprecationWarning: Passing 1d arrays as data is deprecated in 0.17 and will raise ValueError in 0.19. Reshape your data either using X.reshape(-1, 1) if your data has a single feature or X.reshape(1, -1) if it contains a single sample.\n",
      "  warnings.warn(DEPRECATION_MSG_1D, DeprecationWarning)\n"
     ]
    }
   ],
   "source": [
    "all_data['driver_longitude'] = StandardScaler().fit_transform(all_data['driver_longitude'])"
   ]
  },
  {
   "cell_type": "code",
   "execution_count": 47,
   "metadata": {},
   "outputs": [
    {
     "name": "stderr",
     "output_type": "stream",
     "text": [
      "/home/nbuser/anaconda3_420/lib/python3.5/site-packages/sklearn/preprocessing/data.py:586: DeprecationWarning: Passing 1d arrays as data is deprecated in 0.17 and will raise ValueError in 0.19. Reshape your data either using X.reshape(-1, 1) if your data has a single feature or X.reshape(1, -1) if it contains a single sample.\n",
      "  warnings.warn(DEPRECATION_MSG_1D, DeprecationWarning)\n",
      "/home/nbuser/anaconda3_420/lib/python3.5/site-packages/sklearn/preprocessing/data.py:649: DeprecationWarning: Passing 1d arrays as data is deprecated in 0.17 and will raise ValueError in 0.19. Reshape your data either using X.reshape(-1, 1) if your data has a single feature or X.reshape(1, -1) if it contains a single sample.\n",
      "  warnings.warn(DEPRECATION_MSG_1D, DeprecationWarning)\n"
     ]
    }
   ],
   "source": [
    "all_data['origin_order_latitude'] = StandardScaler().fit_transform(all_data['origin_order_latitude'].values)"
   ]
  },
  {
   "cell_type": "code",
   "execution_count": 45,
   "metadata": {
    "collapsed": true
   },
   "outputs": [],
   "source": []
  },
  {
   "cell_type": "code",
   "execution_count": 49,
   "metadata": {},
   "outputs": [
    {
     "name": "stderr",
     "output_type": "stream",
     "text": [
      "/home/nbuser/anaconda3_420/lib/python3.5/site-packages/sklearn/preprocessing/data.py:586: DeprecationWarning: Passing 1d arrays as data is deprecated in 0.17 and will raise ValueError in 0.19. Reshape your data either using X.reshape(-1, 1) if your data has a single feature or X.reshape(1, -1) if it contains a single sample.\n",
      "  warnings.warn(DEPRECATION_MSG_1D, DeprecationWarning)\n",
      "/home/nbuser/anaconda3_420/lib/python3.5/site-packages/sklearn/preprocessing/data.py:649: DeprecationWarning: Passing 1d arrays as data is deprecated in 0.17 and will raise ValueError in 0.19. Reshape your data either using X.reshape(-1, 1) if your data has a single feature or X.reshape(1, -1) if it contains a single sample.\n",
      "  warnings.warn(DEPRECATION_MSG_1D, DeprecationWarning)\n"
     ]
    }
   ],
   "source": [
    "all_data['origin_order_longitude'] = StandardScaler().fit_transform(all_data['origin_order_longitude'])"
   ]
  },
  {
   "cell_type": "code",
   "execution_count": 54,
   "metadata": {
    "collapsed": true
   },
   "outputs": [],
   "source": [
    "all_data['km_per_min'] = 0\n",
    "all_data.loc[all_data.distance_km>0, 'km_per_min'] = all_data[all_data.distance_km>0].distance_km/all_data[all_data.distance_km>0].duration_min"
   ]
  },
  {
   "cell_type": "code",
   "execution_count": 55,
   "metadata": {
    "collapsed": true
   },
   "outputs": [],
   "source": [
    "all_data['distance_log'] = 0\n",
    "all_data.loc[all_data.distance_km>0, 'distance_log'] = np.log(all_data[all_data.distance_km > 0].distance_km)"
   ]
  },
  {
   "cell_type": "code",
   "execution_count": 57,
   "metadata": {
    "collapsed": true
   },
   "outputs": [],
   "source": [
    "all_data['duration_log'] = 0\n",
    "all_data.loc[all_data.duration_min>0, 'duration_log'] = np.log(all_data[all_data.duration_min > 0].duration_min)"
   ]
  },
  {
   "cell_type": "code",
   "execution_count": 60,
   "metadata": {
    "collapsed": true
   },
   "outputs": [],
   "source": []
  },
  {
   "cell_type": "code",
   "execution_count": 62,
   "metadata": {
    "collapsed": true
   },
   "outputs": [],
   "source": [
    "offer_ohe = OHE(all_data.offer_class_group, 'off')\n",
    "ride_ohe = OHE(all_data.ride_type_desc, 'rd')"
   ]
  },
  {
   "cell_type": "code",
   "execution_count": 63,
   "metadata": {
    "collapsed": true
   },
   "outputs": [],
   "source": [
    "all_data = pd.concat([all_data, offer_ohe], axis = 1)\n",
    "all_data = pd.concat([all_data, ride_ohe], axis = 1)"
   ]
  },
  {
   "cell_type": "code",
   "execution_count": 66,
   "metadata": {
    "collapsed": true
   },
   "outputs": [],
   "source": [
    "drcl_ohe = OHE(all_data.driver_cluster, 'dr_cl')\n",
    "ofcl_ohe = OHE(all_data.order_cluster, 'of_cl')"
   ]
  },
  {
   "cell_type": "code",
   "execution_count": 67,
   "metadata": {
    "collapsed": true
   },
   "outputs": [],
   "source": [
    "all_data = pd.concat([all_data, drcl_ohe], axis = 1)\n",
    "all_data = pd.concat([all_data, ofcl_ohe], axis = 1)"
   ]
  },
  {
   "cell_type": "code",
   "execution_count": 3,
   "metadata": {
    "collapsed": true
   },
   "outputs": [],
   "source": [
    "all_data = pickle.load(open('all_data,pkl', 'rb'))"
   ]
  },
  {
   "cell_type": "code",
   "execution_count": 12,
   "metadata": {
    "collapsed": true
   },
   "outputs": [],
   "source": [
    "all_data['drcl_hash'] = all_data.driver_cluster.apply(lambda x: hash_trick('drcl_hash', x))"
   ]
  },
  {
   "cell_type": "code",
   "execution_count": 13,
   "metadata": {
    "collapsed": true
   },
   "outputs": [],
   "source": [
    "all_data['orcl_hash'] = all_data.order_cluster.apply(lambda x: hash_trick('orcl_hash', x))"
   ]
  },
  {
   "cell_type": "code",
   "execution_count": 14,
   "metadata": {},
   "outputs": [
    {
     "name": "stderr",
     "output_type": "stream",
     "text": [
      "/home/nbuser/anaconda3_420/lib/python3.5/site-packages/sklearn/utils/validation.py:429: DataConversionWarning: Data with input dtype int64 was converted to float64 by StandardScaler.\n",
      "  warnings.warn(msg, _DataConversionWarning)\n",
      "/home/nbuser/anaconda3_420/lib/python3.5/site-packages/sklearn/preprocessing/data.py:586: DeprecationWarning: Passing 1d arrays as data is deprecated in 0.17 and will raise ValueError in 0.19. Reshape your data either using X.reshape(-1, 1) if your data has a single feature or X.reshape(1, -1) if it contains a single sample.\n",
      "  warnings.warn(DEPRECATION_MSG_1D, DeprecationWarning)\n",
      "/home/nbuser/anaconda3_420/lib/python3.5/site-packages/sklearn/preprocessing/data.py:649: DeprecationWarning: Passing 1d arrays as data is deprecated in 0.17 and will raise ValueError in 0.19. Reshape your data either using X.reshape(-1, 1) if your data has a single feature or X.reshape(1, -1) if it contains a single sample.\n",
      "  warnings.warn(DEPRECATION_MSG_1D, DeprecationWarning)\n"
     ]
    }
   ],
   "source": [
    "all_data['drcl_hash'] = StandardScaler().fit_transform(all_data['drcl_hash'])"
   ]
  },
  {
   "cell_type": "code",
   "execution_count": 15,
   "metadata": {},
   "outputs": [
    {
     "name": "stderr",
     "output_type": "stream",
     "text": [
      "/home/nbuser/anaconda3_420/lib/python3.5/site-packages/sklearn/utils/validation.py:429: DataConversionWarning: Data with input dtype int64 was converted to float64 by StandardScaler.\n",
      "  warnings.warn(msg, _DataConversionWarning)\n",
      "/home/nbuser/anaconda3_420/lib/python3.5/site-packages/sklearn/preprocessing/data.py:586: DeprecationWarning: Passing 1d arrays as data is deprecated in 0.17 and will raise ValueError in 0.19. Reshape your data either using X.reshape(-1, 1) if your data has a single feature or X.reshape(1, -1) if it contains a single sample.\n",
      "  warnings.warn(DEPRECATION_MSG_1D, DeprecationWarning)\n",
      "/home/nbuser/anaconda3_420/lib/python3.5/site-packages/sklearn/preprocessing/data.py:649: DeprecationWarning: Passing 1d arrays as data is deprecated in 0.17 and will raise ValueError in 0.19. Reshape your data either using X.reshape(-1, 1) if your data has a single feature or X.reshape(1, -1) if it contains a single sample.\n",
      "  warnings.warn(DEPRECATION_MSG_1D, DeprecationWarning)\n"
     ]
    }
   ],
   "source": [
    "all_data['orcl_hash'] = StandardScaler().fit_transform(all_data['orcl_hash'])"
   ]
  },
  {
   "cell_type": "code",
   "execution_count": 23,
   "metadata": {
    "collapsed": true
   },
   "outputs": [],
   "source": [
    "all_data['dist_to_order'] = all_data[['driver_latitude','driver_longitude',\n",
    "                                      'origin_order_latitude','origin_order_longitude']].apply(distance, axis=1)"
   ]
  },
  {
   "cell_type": "code",
   "execution_count": 25,
   "metadata": {},
   "outputs": [
    {
     "name": "stderr",
     "output_type": "stream",
     "text": [
      "/home/nbuser/anaconda3_420/lib/python3.5/site-packages/sklearn/preprocessing/data.py:586: DeprecationWarning: Passing 1d arrays as data is deprecated in 0.17 and will raise ValueError in 0.19. Reshape your data either using X.reshape(-1, 1) if your data has a single feature or X.reshape(1, -1) if it contains a single sample.\n",
      "  warnings.warn(DEPRECATION_MSG_1D, DeprecationWarning)\n",
      "/home/nbuser/anaconda3_420/lib/python3.5/site-packages/sklearn/preprocessing/data.py:649: DeprecationWarning: Passing 1d arrays as data is deprecated in 0.17 and will raise ValueError in 0.19. Reshape your data either using X.reshape(-1, 1) if your data has a single feature or X.reshape(1, -1) if it contains a single sample.\n",
      "  warnings.warn(DEPRECATION_MSG_1D, DeprecationWarning)\n"
     ]
    }
   ],
   "source": [
    "all_data['dist_to_order'] = StandardScaler().fit_transform(all_data['dist_to_order'])"
   ]
  },
  {
   "cell_type": "code",
   "execution_count": 27,
   "metadata": {
    "collapsed": true
   },
   "outputs": [],
   "source": [
    "pickle.dump(all_data, open('all_data.pkl', 'wb'))"
   ]
  },
  {
   "cell_type": "code",
   "execution_count": 5,
   "metadata": {
    "collapsed": true
   },
   "outputs": [],
   "source": [
    "all_data=pickle.load(open('all_data.pkl', 'rb'))"
   ]
  },
  {
   "cell_type": "code",
   "execution_count": 9,
   "metadata": {
    "collapsed": true
   },
   "outputs": [],
   "source": [
    "model_data = all_data.drop(columns_to_exclude, axis=1)"
   ]
  },
  {
   "cell_type": "code",
   "execution_count": 37,
   "metadata": {},
   "outputs": [
    {
     "name": "stdout",
     "output_type": "stream",
     "text": [
      "offer_gk\n",
      "driver_latitude\n",
      "driver_longitude\n",
      "origin_order_latitude\n",
      "origin_order_longitude\n",
      "driver_response\n",
      "is_test\n",
      "km_per_min\n",
      "distance_log\n",
      "cos_hr\n",
      "sin_hr\n",
      "cos_day\n",
      "sin_day\n",
      "hrs_0\n",
      "hrs_1\n",
      "hrs_2\n",
      "hrs_3\n",
      "hrs_4\n",
      "hrs_5\n",
      "hrs_6\n",
      "hrs_7\n",
      "hrs_8\n",
      "hrs_9\n",
      "hrs_10\n",
      "hrs_11\n",
      "hrs_12\n",
      "hrs_13\n",
      "hrs_14\n",
      "hrs_15\n",
      "hrs_16\n",
      "hrs_17\n",
      "hrs_18\n",
      "hrs_19\n",
      "hrs_20\n",
      "hrs_21\n",
      "hrs_22\n",
      "hrs_23\n",
      "wds_0\n",
      "wds_1\n",
      "wds_2\n",
      "wds_3\n",
      "wds_4\n",
      "wds_5\n",
      "wds_6\n",
      "driver_hash\n",
      "day_hour\n",
      "tod_0\n",
      "tod_1\n",
      "tod_2\n",
      "tod_3\n",
      "duration_log\n",
      "off_Delivery\n",
      "off_Economy\n",
      "off_Kids\n",
      "off_Premium\n",
      "off_Standard\n",
      "off_Test\n",
      "off_VIP\n",
      "off_VIP+\n",
      "off_XL\n",
      "rd_SMB\n",
      "rd_affiliate\n",
      "rd_business\n",
      "rd_private\n",
      "dr_cl_0\n",
      "dr_cl_1\n",
      "dr_cl_2\n",
      "dr_cl_3\n",
      "dr_cl_4\n",
      "dr_cl_5\n",
      "dr_cl_6\n",
      "dr_cl_7\n",
      "dr_cl_8\n",
      "dr_cl_9\n",
      "dr_cl_10\n",
      "dr_cl_11\n",
      "dr_cl_12\n",
      "dr_cl_13\n",
      "dr_cl_14\n",
      "dr_cl_15\n",
      "dr_cl_16\n",
      "dr_cl_17\n",
      "dr_cl_18\n",
      "dr_cl_19\n",
      "dr_cl_20\n",
      "dr_cl_21\n",
      "dr_cl_22\n",
      "dr_cl_23\n",
      "dr_cl_24\n",
      "dr_cl_25\n",
      "dr_cl_26\n",
      "dr_cl_27\n",
      "dr_cl_28\n",
      "dr_cl_29\n",
      "dr_cl_30\n",
      "dr_cl_31\n",
      "dr_cl_32\n",
      "dr_cl_33\n",
      "dr_cl_34\n",
      "dr_cl_35\n",
      "dr_cl_36\n",
      "dr_cl_37\n",
      "dr_cl_38\n",
      "dr_cl_39\n",
      "dr_cl_40\n",
      "dr_cl_41\n",
      "of_cl_0\n",
      "of_cl_1\n",
      "of_cl_2\n",
      "of_cl_3\n",
      "of_cl_4\n",
      "of_cl_5\n",
      "of_cl_6\n",
      "of_cl_7\n",
      "of_cl_8\n",
      "of_cl_9\n",
      "of_cl_10\n",
      "of_cl_11\n",
      "of_cl_12\n",
      "of_cl_13\n",
      "of_cl_14\n",
      "of_cl_15\n",
      "of_cl_16\n",
      "of_cl_17\n",
      "of_cl_18\n",
      "of_cl_19\n",
      "of_cl_20\n",
      "of_cl_21\n",
      "of_cl_22\n",
      "of_cl_23\n",
      "of_cl_24\n",
      "of_cl_25\n",
      "of_cl_26\n",
      "of_cl_27\n",
      "of_cl_28\n",
      "of_cl_29\n",
      "of_cl_30\n",
      "of_cl_31\n",
      "of_cl_32\n",
      "of_cl_33\n",
      "of_cl_34\n",
      "of_cl_35\n",
      "of_cl_36\n",
      "of_cl_37\n",
      "of_cl_38\n",
      "of_cl_39\n",
      "of_cl_40\n",
      "of_cl_41\n",
      "drcl_hash\n",
      "orcl_hash\n",
      "dist_to_order\n"
     ]
    }
   ],
   "source": [
    "for i in model_data.columns:\n",
    "    print(i)"
   ]
  },
  {
   "cell_type": "code",
   "execution_count": 38,
   "metadata": {},
   "outputs": [
    {
     "data": {
      "text/html": [
       "<div>\n",
       "<table border=\"1\" class=\"dataframe\">\n",
       "  <thead>\n",
       "    <tr style=\"text-align: right;\">\n",
       "      <th></th>\n",
       "      <th>offer_gk</th>\n",
       "      <th>driver_latitude</th>\n",
       "      <th>driver_longitude</th>\n",
       "      <th>origin_order_latitude</th>\n",
       "      <th>origin_order_longitude</th>\n",
       "      <th>driver_response</th>\n",
       "      <th>is_test</th>\n",
       "      <th>km_per_min</th>\n",
       "      <th>distance_log</th>\n",
       "      <th>cos_hr</th>\n",
       "      <th>...</th>\n",
       "      <th>of_cl_35</th>\n",
       "      <th>of_cl_36</th>\n",
       "      <th>of_cl_37</th>\n",
       "      <th>of_cl_38</th>\n",
       "      <th>of_cl_39</th>\n",
       "      <th>of_cl_40</th>\n",
       "      <th>of_cl_41</th>\n",
       "      <th>drcl_hash</th>\n",
       "      <th>orcl_hash</th>\n",
       "      <th>dist_to_order</th>\n",
       "    </tr>\n",
       "  </thead>\n",
       "  <tbody>\n",
       "    <tr>\n",
       "      <th>0</th>\n",
       "      <td>1105373</td>\n",
       "      <td>0.077573</td>\n",
       "      <td>-0.052165</td>\n",
       "      <td>0.092665</td>\n",
       "      <td>-0.378348</td>\n",
       "      <td>0</td>\n",
       "      <td>False</td>\n",
       "      <td>0.000000</td>\n",
       "      <td>0.000000</td>\n",
       "      <td>5.000000e-01</td>\n",
       "      <td>...</td>\n",
       "      <td>0</td>\n",
       "      <td>0</td>\n",
       "      <td>0</td>\n",
       "      <td>0</td>\n",
       "      <td>0</td>\n",
       "      <td>0</td>\n",
       "      <td>0</td>\n",
       "      <td>-1.490162</td>\n",
       "      <td>1.291360</td>\n",
       "      <td>0.029488</td>\n",
       "    </tr>\n",
       "    <tr>\n",
       "      <th>1</th>\n",
       "      <td>759733</td>\n",
       "      <td>0.073391</td>\n",
       "      <td>0.029971</td>\n",
       "      <td>0.098564</td>\n",
       "      <td>-0.179782</td>\n",
       "      <td>1</td>\n",
       "      <td>False</td>\n",
       "      <td>0.745608</td>\n",
       "      <td>2.933963</td>\n",
       "      <td>-8.660254e-01</td>\n",
       "      <td>...</td>\n",
       "      <td>0</td>\n",
       "      <td>0</td>\n",
       "      <td>0</td>\n",
       "      <td>0</td>\n",
       "      <td>0</td>\n",
       "      <td>0</td>\n",
       "      <td>0</td>\n",
       "      <td>-1.151166</td>\n",
       "      <td>-1.015491</td>\n",
       "      <td>-0.034000</td>\n",
       "    </tr>\n",
       "    <tr>\n",
       "      <th>2</th>\n",
       "      <td>416977</td>\n",
       "      <td>0.076065</td>\n",
       "      <td>-0.046191</td>\n",
       "      <td>0.092986</td>\n",
       "      <td>-0.380021</td>\n",
       "      <td>0</td>\n",
       "      <td>False</td>\n",
       "      <td>0.688469</td>\n",
       "      <td>1.909098</td>\n",
       "      <td>-8.660254e-01</td>\n",
       "      <td>...</td>\n",
       "      <td>0</td>\n",
       "      <td>0</td>\n",
       "      <td>0</td>\n",
       "      <td>0</td>\n",
       "      <td>0</td>\n",
       "      <td>0</td>\n",
       "      <td>0</td>\n",
       "      <td>-1.490162</td>\n",
       "      <td>1.291360</td>\n",
       "      <td>0.033742</td>\n",
       "    </tr>\n",
       "    <tr>\n",
       "      <th>3</th>\n",
       "      <td>889660</td>\n",
       "      <td>0.054983</td>\n",
       "      <td>-0.012482</td>\n",
       "      <td>0.004566</td>\n",
       "      <td>-0.242652</td>\n",
       "      <td>1</td>\n",
       "      <td>False</td>\n",
       "      <td>0.000000</td>\n",
       "      <td>0.000000</td>\n",
       "      <td>6.123234e-17</td>\n",
       "      <td>...</td>\n",
       "      <td>0</td>\n",
       "      <td>0</td>\n",
       "      <td>0</td>\n",
       "      <td>0</td>\n",
       "      <td>0</td>\n",
       "      <td>0</td>\n",
       "      <td>0</td>\n",
       "      <td>-1.668547</td>\n",
       "      <td>0.494102</td>\n",
       "      <td>-0.020609</td>\n",
       "    </tr>\n",
       "    <tr>\n",
       "      <th>4</th>\n",
       "      <td>1120055</td>\n",
       "      <td>0.072844</td>\n",
       "      <td>0.032966</td>\n",
       "      <td>0.090174</td>\n",
       "      <td>-0.071017</td>\n",
       "      <td>1</td>\n",
       "      <td>False</td>\n",
       "      <td>0.643273</td>\n",
       "      <td>2.516325</td>\n",
       "      <td>-5.000000e-01</td>\n",
       "      <td>...</td>\n",
       "      <td>0</td>\n",
       "      <td>0</td>\n",
       "      <td>0</td>\n",
       "      <td>0</td>\n",
       "      <td>0</td>\n",
       "      <td>0</td>\n",
       "      <td>0</td>\n",
       "      <td>-1.151166</td>\n",
       "      <td>0.924953</td>\n",
       "      <td>-0.092286</td>\n",
       "    </tr>\n",
       "  </tbody>\n",
       "</table>\n",
       "<p>5 rows × 151 columns</p>\n",
       "</div>"
      ],
      "text/plain": [
       "   offer_gk  driver_latitude  driver_longitude  origin_order_latitude  \\\n",
       "0   1105373         0.077573         -0.052165               0.092665   \n",
       "1    759733         0.073391          0.029971               0.098564   \n",
       "2    416977         0.076065         -0.046191               0.092986   \n",
       "3    889660         0.054983         -0.012482               0.004566   \n",
       "4   1120055         0.072844          0.032966               0.090174   \n",
       "\n",
       "   origin_order_longitude driver_response is_test  km_per_min  distance_log  \\\n",
       "0               -0.378348               0   False    0.000000      0.000000   \n",
       "1               -0.179782               1   False    0.745608      2.933963   \n",
       "2               -0.380021               0   False    0.688469      1.909098   \n",
       "3               -0.242652               1   False    0.000000      0.000000   \n",
       "4               -0.071017               1   False    0.643273      2.516325   \n",
       "\n",
       "         cos_hr      ...        of_cl_35  of_cl_36  of_cl_37  of_cl_38  \\\n",
       "0  5.000000e-01      ...               0         0         0         0   \n",
       "1 -8.660254e-01      ...               0         0         0         0   \n",
       "2 -8.660254e-01      ...               0         0         0         0   \n",
       "3  6.123234e-17      ...               0         0         0         0   \n",
       "4 -5.000000e-01      ...               0         0         0         0   \n",
       "\n",
       "   of_cl_39  of_cl_40  of_cl_41  drcl_hash  orcl_hash  dist_to_order  \n",
       "0         0         0         0  -1.490162   1.291360       0.029488  \n",
       "1         0         0         0  -1.151166  -1.015491      -0.034000  \n",
       "2         0         0         0  -1.490162   1.291360       0.033742  \n",
       "3         0         0         0  -1.668547   0.494102      -0.020609  \n",
       "4         0         0         0  -1.151166   0.924953      -0.092286  \n",
       "\n",
       "[5 rows x 151 columns]"
      ]
     },
     "execution_count": 38,
     "metadata": {},
     "output_type": "execute_result"
    }
   ],
   "source": [
    "model_data.head()"
   ]
  },
  {
   "cell_type": "code",
   "execution_count": 34,
   "metadata": {},
   "outputs": [
    {
     "data": {
      "text/html": [
       "<div>\n",
       "<table border=\"1\" class=\"dataframe\">\n",
       "  <thead>\n",
       "    <tr style=\"text-align: right;\">\n",
       "      <th></th>\n",
       "      <th>driver_latitude</th>\n",
       "      <th>driver_longitude</th>\n",
       "      <th>origin_order_latitude</th>\n",
       "      <th>origin_order_longitude</th>\n",
       "      <th>km_per_min</th>\n",
       "      <th>distance_log</th>\n",
       "      <th>cos_hr</th>\n",
       "      <th>sin_hr</th>\n",
       "      <th>cos_day</th>\n",
       "      <th>sin_day</th>\n",
       "      <th>...</th>\n",
       "      <th>of_cl_35</th>\n",
       "      <th>of_cl_36</th>\n",
       "      <th>of_cl_37</th>\n",
       "      <th>of_cl_38</th>\n",
       "      <th>of_cl_39</th>\n",
       "      <th>of_cl_40</th>\n",
       "      <th>of_cl_41</th>\n",
       "      <th>drcl_hash</th>\n",
       "      <th>orcl_hash</th>\n",
       "      <th>dist_to_order</th>\n",
       "    </tr>\n",
       "  </thead>\n",
       "  <tbody>\n",
       "    <tr>\n",
       "      <th>count</th>\n",
       "      <td>1.130370e+06</td>\n",
       "      <td>1.130370e+06</td>\n",
       "      <td>1.130370e+06</td>\n",
       "      <td>1.130370e+06</td>\n",
       "      <td>1.130370e+06</td>\n",
       "      <td>1.130370e+06</td>\n",
       "      <td>1.130370e+06</td>\n",
       "      <td>1.130370e+06</td>\n",
       "      <td>1.130370e+06</td>\n",
       "      <td>1.130370e+06</td>\n",
       "      <td>...</td>\n",
       "      <td>1.130370e+06</td>\n",
       "      <td>1.130370e+06</td>\n",
       "      <td>1.130370e+06</td>\n",
       "      <td>1.130370e+06</td>\n",
       "      <td>1.130370e+06</td>\n",
       "      <td>1.130370e+06</td>\n",
       "      <td>1.130370e+06</td>\n",
       "      <td>1.130370e+06</td>\n",
       "      <td>1.130370e+06</td>\n",
       "      <td>1.130370e+06</td>\n",
       "    </tr>\n",
       "    <tr>\n",
       "      <th>mean</th>\n",
       "      <td>-3.065783e-06</td>\n",
       "      <td>-1.609235e-06</td>\n",
       "      <td>-6.015240e-06</td>\n",
       "      <td>1.721488e-05</td>\n",
       "      <td>4.055505e-01</td>\n",
       "      <td>1.683078e+00</td>\n",
       "      <td>-1.435815e-02</td>\n",
       "      <td>-2.618066e-01</td>\n",
       "      <td>-1.738679e-02</td>\n",
       "      <td>-6.340841e-02</td>\n",
       "      <td>...</td>\n",
       "      <td>1.632917e-02</td>\n",
       "      <td>1.403169e-02</td>\n",
       "      <td>7.442253e-02</td>\n",
       "      <td>2.130895e-02</td>\n",
       "      <td>1.067969e-02</td>\n",
       "      <td>1.057618e-02</td>\n",
       "      <td>2.706017e-02</td>\n",
       "      <td>1.562048e-14</td>\n",
       "      <td>8.621087e-14</td>\n",
       "      <td>5.573289e-16</td>\n",
       "    </tr>\n",
       "    <tr>\n",
       "      <th>std</th>\n",
       "      <td>9.982629e-01</td>\n",
       "      <td>9.984320e-01</td>\n",
       "      <td>9.986981e-01</td>\n",
       "      <td>9.985257e-01</td>\n",
       "      <td>3.309943e-01</td>\n",
       "      <td>1.403453e+00</td>\n",
       "      <td>7.116064e-01</td>\n",
       "      <td>6.518192e-01</td>\n",
       "      <td>6.963890e-01</td>\n",
       "      <td>7.146469e-01</td>\n",
       "      <td>...</td>\n",
       "      <td>1.267381e-01</td>\n",
       "      <td>1.176215e-01</td>\n",
       "      <td>2.624574e-01</td>\n",
       "      <td>1.444123e-01</td>\n",
       "      <td>1.027893e-01</td>\n",
       "      <td>1.022953e-01</td>\n",
       "      <td>1.622589e-01</td>\n",
       "      <td>1.000000e+00</td>\n",
       "      <td>1.000000e+00</td>\n",
       "      <td>1.000000e+00</td>\n",
       "    </tr>\n",
       "    <tr>\n",
       "      <th>min</th>\n",
       "      <td>-1.752356e+01</td>\n",
       "      <td>-1.749989e+01</td>\n",
       "      <td>-7.030705e+01</td>\n",
       "      <td>-6.875334e+01</td>\n",
       "      <td>-4.000000e-03</td>\n",
       "      <td>-6.907755e+00</td>\n",
       "      <td>-1.000000e+00</td>\n",
       "      <td>-1.000000e+00</td>\n",
       "      <td>-9.009689e-01</td>\n",
       "      <td>-9.749279e-01</td>\n",
       "      <td>...</td>\n",
       "      <td>0.000000e+00</td>\n",
       "      <td>0.000000e+00</td>\n",
       "      <td>0.000000e+00</td>\n",
       "      <td>0.000000e+00</td>\n",
       "      <td>0.000000e+00</td>\n",
       "      <td>0.000000e+00</td>\n",
       "      <td>0.000000e+00</td>\n",
       "      <td>-1.668547e+00</td>\n",
       "      <td>-1.486172e+00</td>\n",
       "      <td>-1.502116e-01</td>\n",
       "    </tr>\n",
       "    <tr>\n",
       "      <th>25%</th>\n",
       "      <td>4.256257e-02</td>\n",
       "      <td>1.543512e-02</td>\n",
       "      <td>-4.264559e-02</td>\n",
       "      <td>-1.494255e-01</td>\n",
       "      <td>0.000000e+00</td>\n",
       "      <td>0.000000e+00</td>\n",
       "      <td>-7.071068e-01</td>\n",
       "      <td>-8.660254e-01</td>\n",
       "      <td>-9.009689e-01</td>\n",
       "      <td>-7.818315e-01</td>\n",
       "      <td>...</td>\n",
       "      <td>0.000000e+00</td>\n",
       "      <td>0.000000e+00</td>\n",
       "      <td>0.000000e+00</td>\n",
       "      <td>0.000000e+00</td>\n",
       "      <td>0.000000e+00</td>\n",
       "      <td>0.000000e+00</td>\n",
       "      <td>0.000000e+00</td>\n",
       "      <td>-8.056124e-01</td>\n",
       "      <td>-9.046575e-01</td>\n",
       "      <td>-1.127604e-01</td>\n",
       "    </tr>\n",
       "    <tr>\n",
       "      <th>50%</th>\n",
       "      <td>5.810551e-02</td>\n",
       "      <td>6.016053e-02</td>\n",
       "      <td>2.085956e-02</td>\n",
       "      <td>2.467190e-02</td>\n",
       "      <td>4.237860e-01</td>\n",
       "      <td>1.837370e+00</td>\n",
       "      <td>-1.836970e-16</td>\n",
       "      <td>-5.000000e-01</td>\n",
       "      <td>-2.225209e-01</td>\n",
       "      <td>0.000000e+00</td>\n",
       "      <td>...</td>\n",
       "      <td>0.000000e+00</td>\n",
       "      <td>0.000000e+00</td>\n",
       "      <td>0.000000e+00</td>\n",
       "      <td>0.000000e+00</td>\n",
       "      <td>0.000000e+00</td>\n",
       "      <td>0.000000e+00</td>\n",
       "      <td>0.000000e+00</td>\n",
       "      <td>3.881184e-02</td>\n",
       "      <td>-4.962480e-02</td>\n",
       "      <td>-7.493595e-02</td>\n",
       "    </tr>\n",
       "    <tr>\n",
       "      <th>75%</th>\n",
       "      <td>7.224222e-02</td>\n",
       "      <td>8.620231e-02</td>\n",
       "      <td>7.707120e-02</td>\n",
       "      <td>1.281453e-01</td>\n",
       "      <td>6.468972e-01</td>\n",
       "      <td>2.851342e+00</td>\n",
       "      <td>7.071068e-01</td>\n",
       "      <td>2.588190e-01</td>\n",
       "      <td>6.234898e-01</td>\n",
       "      <td>7.818315e-01</td>\n",
       "      <td>...</td>\n",
       "      <td>0.000000e+00</td>\n",
       "      <td>0.000000e+00</td>\n",
       "      <td>0.000000e+00</td>\n",
       "      <td>0.000000e+00</td>\n",
       "      <td>0.000000e+00</td>\n",
       "      <td>0.000000e+00</td>\n",
       "      <td>0.000000e+00</td>\n",
       "      <td>5.931276e-01</td>\n",
       "      <td>9.249530e-01</td>\n",
       "      <td>-1.994323e-03</td>\n",
       "    </tr>\n",
       "    <tr>\n",
       "      <th>max</th>\n",
       "      <td>2.474403e-01</td>\n",
       "      <td>7.001401e-01</td>\n",
       "      <td>8.404282e-01</td>\n",
       "      <td>2.532970e+00</td>\n",
       "      <td>1.629633e+00</td>\n",
       "      <td>9.120169e+00</td>\n",
       "      <td>1.000000e+00</td>\n",
       "      <td>1.000000e+00</td>\n",
       "      <td>1.000000e+00</td>\n",
       "      <td>9.749279e-01</td>\n",
       "      <td>...</td>\n",
       "      <td>1.000000e+00</td>\n",
       "      <td>1.000000e+00</td>\n",
       "      <td>1.000000e+00</td>\n",
       "      <td>1.000000e+00</td>\n",
       "      <td>1.000000e+00</td>\n",
       "      <td>1.000000e+00</td>\n",
       "      <td>1.000000e+00</td>\n",
       "      <td>1.863345e+00</td>\n",
       "      <td>1.691060e+00</td>\n",
       "      <td>4.553295e+01</td>\n",
       "    </tr>\n",
       "  </tbody>\n",
       "</table>\n",
       "<p>8 rows × 148 columns</p>\n",
       "</div>"
      ],
      "text/plain": [
       "       driver_latitude  driver_longitude  origin_order_latitude  \\\n",
       "count     1.130370e+06      1.130370e+06           1.130370e+06   \n",
       "mean     -3.065783e-06     -1.609235e-06          -6.015240e-06   \n",
       "std       9.982629e-01      9.984320e-01           9.986981e-01   \n",
       "min      -1.752356e+01     -1.749989e+01          -7.030705e+01   \n",
       "25%       4.256257e-02      1.543512e-02          -4.264559e-02   \n",
       "50%       5.810551e-02      6.016053e-02           2.085956e-02   \n",
       "75%       7.224222e-02      8.620231e-02           7.707120e-02   \n",
       "max       2.474403e-01      7.001401e-01           8.404282e-01   \n",
       "\n",
       "       origin_order_longitude    km_per_min  distance_log        cos_hr  \\\n",
       "count            1.130370e+06  1.130370e+06  1.130370e+06  1.130370e+06   \n",
       "mean             1.721488e-05  4.055505e-01  1.683078e+00 -1.435815e-02   \n",
       "std              9.985257e-01  3.309943e-01  1.403453e+00  7.116064e-01   \n",
       "min             -6.875334e+01 -4.000000e-03 -6.907755e+00 -1.000000e+00   \n",
       "25%             -1.494255e-01  0.000000e+00  0.000000e+00 -7.071068e-01   \n",
       "50%              2.467190e-02  4.237860e-01  1.837370e+00 -1.836970e-16   \n",
       "75%              1.281453e-01  6.468972e-01  2.851342e+00  7.071068e-01   \n",
       "max              2.532970e+00  1.629633e+00  9.120169e+00  1.000000e+00   \n",
       "\n",
       "             sin_hr       cos_day       sin_day      ...            of_cl_35  \\\n",
       "count  1.130370e+06  1.130370e+06  1.130370e+06      ...        1.130370e+06   \n",
       "mean  -2.618066e-01 -1.738679e-02 -6.340841e-02      ...        1.632917e-02   \n",
       "std    6.518192e-01  6.963890e-01  7.146469e-01      ...        1.267381e-01   \n",
       "min   -1.000000e+00 -9.009689e-01 -9.749279e-01      ...        0.000000e+00   \n",
       "25%   -8.660254e-01 -9.009689e-01 -7.818315e-01      ...        0.000000e+00   \n",
       "50%   -5.000000e-01 -2.225209e-01  0.000000e+00      ...        0.000000e+00   \n",
       "75%    2.588190e-01  6.234898e-01  7.818315e-01      ...        0.000000e+00   \n",
       "max    1.000000e+00  1.000000e+00  9.749279e-01      ...        1.000000e+00   \n",
       "\n",
       "           of_cl_36      of_cl_37      of_cl_38      of_cl_39      of_cl_40  \\\n",
       "count  1.130370e+06  1.130370e+06  1.130370e+06  1.130370e+06  1.130370e+06   \n",
       "mean   1.403169e-02  7.442253e-02  2.130895e-02  1.067969e-02  1.057618e-02   \n",
       "std    1.176215e-01  2.624574e-01  1.444123e-01  1.027893e-01  1.022953e-01   \n",
       "min    0.000000e+00  0.000000e+00  0.000000e+00  0.000000e+00  0.000000e+00   \n",
       "25%    0.000000e+00  0.000000e+00  0.000000e+00  0.000000e+00  0.000000e+00   \n",
       "50%    0.000000e+00  0.000000e+00  0.000000e+00  0.000000e+00  0.000000e+00   \n",
       "75%    0.000000e+00  0.000000e+00  0.000000e+00  0.000000e+00  0.000000e+00   \n",
       "max    1.000000e+00  1.000000e+00  1.000000e+00  1.000000e+00  1.000000e+00   \n",
       "\n",
       "           of_cl_41     drcl_hash     orcl_hash  dist_to_order  \n",
       "count  1.130370e+06  1.130370e+06  1.130370e+06   1.130370e+06  \n",
       "mean   2.706017e-02  1.562048e-14  8.621087e-14   5.573289e-16  \n",
       "std    1.622589e-01  1.000000e+00  1.000000e+00   1.000000e+00  \n",
       "min    0.000000e+00 -1.668547e+00 -1.486172e+00  -1.502116e-01  \n",
       "25%    0.000000e+00 -8.056124e-01 -9.046575e-01  -1.127604e-01  \n",
       "50%    0.000000e+00  3.881184e-02 -4.962480e-02  -7.493595e-02  \n",
       "75%    0.000000e+00  5.931276e-01  9.249530e-01  -1.994323e-03  \n",
       "max    1.000000e+00  1.863345e+00  1.691060e+00   4.553295e+01  \n",
       "\n",
       "[8 rows x 148 columns]"
      ]
     },
     "execution_count": 34,
     "metadata": {},
     "output_type": "execute_result"
    }
   ],
   "source": [
    "model_data.describe()"
   ]
  },
  {
   "cell_type": "code",
   "execution_count": 10,
   "metadata": {
    "collapsed": true
   },
   "outputs": [],
   "source": [
    "X_train = model_data[model_data.is_test == False].drop(['is_test', 'driver_response'], axis = 1)\n",
    "X_test  = model_data[model_data.is_test == True].drop(['is_test', 'driver_response'], axis = 1)"
   ]
  },
  {
   "cell_type": "code",
   "execution_count": 11,
   "metadata": {
    "collapsed": true
   },
   "outputs": [],
   "source": [
    "y_train = model_data[model_data.is_test == False][['offer_gk','driver_response']]"
   ]
  },
  {
   "cell_type": "code",
   "execution_count": 15,
   "metadata": {
    "collapsed": true
   },
   "outputs": [],
   "source": [
    "y_train['driver_response'] = y_train.driver_response.astype('int8')"
   ]
  },
  {
   "cell_type": "code",
   "execution_count": 12,
   "metadata": {},
   "outputs": [
    {
     "name": "stdout",
     "output_type": "stream",
     "text": [
      "(892557, 149) (237813, 149) (892557, 2)\n"
     ]
    }
   ],
   "source": [
    "print(X_train.shape, X_test.shape, y_train.shape)"
   ]
  },
  {
   "cell_type": "code",
   "execution_count": 13,
   "metadata": {
    "collapsed": true
   },
   "outputs": [],
   "source": [
    "pickle.dump(X_train, open('x_train.pkl', 'wb'))\n",
    "pickle.dump(X_test, open('x_test.pkl', 'wb'))"
   ]
  },
  {
   "cell_type": "code",
   "execution_count": 17,
   "metadata": {
    "collapsed": true
   },
   "outputs": [],
   "source": [
    "pickle.dump(y_train, open('y_train.pkl', 'wb'))"
   ]
  }
 ],
 "metadata": {
  "kernelspec": {
   "display_name": "Python 3",
   "language": "python",
   "name": "python3"
  },
  "language_info": {
   "codemirror_mode": {
    "name": "ipython",
    "version": 3
   },
   "file_extension": ".py",
   "mimetype": "text/x-python",
   "name": "python",
   "nbconvert_exporter": "python",
   "pygments_lexer": "ipython3",
   "version": "3.5.2"
  }
 },
 "nbformat": 4,
 "nbformat_minor": 2
}
